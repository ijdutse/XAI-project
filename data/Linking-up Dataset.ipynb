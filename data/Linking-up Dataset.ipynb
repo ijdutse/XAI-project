{
 "cells": [
  {
   "cell_type": "code",
   "execution_count": 113,
   "metadata": {},
   "outputs": [],
   "source": [
    "%matplotlib inline\n",
    "import matplotlib.pyplot as plt\n",
    "import pandas as pd\n",
    "import numpy as np"
   ]
  },
  {
   "cell_type": "code",
   "execution_count": 114,
   "metadata": {},
   "outputs": [
    {
     "data": {
      "text/plain": [
       "8715"
      ]
     },
     "execution_count": 114,
     "metadata": {},
     "output_type": "execute_result"
    }
   ],
   "source": [
    "df=pd.read_csv('~/analysis/dyads/data/unverified_dyads.csv')\n",
    "len(df)"
   ]
  },
  {
   "cell_type": "code",
   "execution_count": 115,
   "metadata": {},
   "outputs": [],
   "source": [
    "#df.columns"
   ]
  },
  {
   "cell_type": "markdown",
   "metadata": {},
   "source": [
    "**Compute More Features**\n",
    "    \n",
    "    #Derived features ... "
   ]
  },
  {
   "cell_type": "code",
   "execution_count": 116,
   "metadata": {},
   "outputs": [],
   "source": [
    "# More Features ...\n",
    "#B1:\n",
    "#df['B1_Activeness'] = df.B1_Statuses.truediv(df.B1_AccountAge)\n",
    "df['B1_Friendship'] = df.B1_Friends.truediv(df.B1_Followers)\n",
    "df['B1_Followership'] = df.B1_Followers.truediv(df.B1_Friends)\n",
    "df['B1_Interestingness'] = df.B1_Favourite.truediv(df.B1_Statuses)\n",
    "df['B1_BidirFriendship'] = (df.B1_Friends + df.B1_Followers).truediv(df.B1_Friends)\n",
    "df['B1_BidirFollowership'] = (df.B1_Friends + df.B1_Followers).truediv(df.B1_Followers)\n",
    "#B2:\n",
    "df['B2_Friendship'] = df.B2_Friends.truediv(df.B2_Followers)\n",
    "df['B2_Followership'] = df.B2_Followers.truediv(df.B2_Friends)\n",
    "df['B2_Interestingness'] = df.B2_Favourite.truediv(df.B2_Statuses)\n",
    "df['B2_BidirFriendship'] = (df.B2_Friends + df.B2_Followers).truediv(df.B2_Friends)\n",
    "df['B2_BidirFollowership'] = (df.B2_Friends + df.B2_Followers).truediv(df.B2_Followers)"
   ]
  },
  {
   "cell_type": "code",
   "execution_count": 117,
   "metadata": {},
   "outputs": [
    {
     "data": {
      "text/plain": [
       "Index(['Dyad', 'B1_ID', 'B1_ScreenName', 'B1_CreatedAt', 'B1_Followers',\n",
       "       'B1_Friends', 'B1_Statuses', 'B1_Description', 'B1_Location',\n",
       "       'B1_Favourite', 'B1_Verification', 'B1_Tweet', 'B1_AccountCreated',\n",
       "       'B1_RTCount', 'B2_ID', 'B2_ScreenName', 'B2_CreatedAt', 'B2_Followers',\n",
       "       'B2_Friends', 'B2_Statuses', 'B2_Description', 'B2_Location',\n",
       "       'B2_Favourite', 'B2_Verification', 'B2_Tweet', 'B2_AccountCreated',\n",
       "       'B2_RTCount', 'B1_Friendship', 'B1_Followership', 'B1_Interestingness',\n",
       "       'B1_BidirFriendship', 'B1_BidirFollowership', 'B2_Friendship',\n",
       "       'B2_Followership', 'B2_Interestingness', 'B2_BidirFriendship',\n",
       "       'B2_BidirFollowership'],\n",
       "      dtype='object')"
      ]
     },
     "execution_count": 117,
     "metadata": {},
     "output_type": "execute_result"
    }
   ],
   "source": [
    "df.columns"
   ]
  },
  {
   "cell_type": "code",
   "execution_count": 118,
   "metadata": {},
   "outputs": [
    {
     "data": {
      "text/plain": [
       "(8715, 1806)"
      ]
     },
     "execution_count": 118,
     "metadata": {},
     "output_type": "execute_result"
    }
   ],
   "source": [
    "#df.columns\n",
    "df1=df[['B1_ID','B1_CreatedAt','B1_Followers','B1_Friends','B1_Statuses','B1_Description',\n",
    "    'B1_Location','B1_Favourite','B1_Verification','B1_Tweet','B1_AccountCreated',\n",
    "    'B1_RTCount','B2_ID','B2_CreatedAt','B2_Followers','B2_Friends','B2_Statuses',\n",
    "    'B2_Description','B2_Location','B2_Favourite','B2_Verification','B2_Tweet',\n",
    "    'B2_AccountCreated','B2_RTCount','B1_Friendship', 'B1_Followership', \n",
    "    'B1_Interestingness','B1_BidirFriendship','B1_BidirFollowership','B2_Friendship',\n",
    "    'B2_Followership','B2_Interestingness','B2_BidirFriendship', 'B2_BidirFollowership']]\n",
    "df1 = df1.drop_duplicates(subset='B1_ID')\n",
    "len(df), len(df1)"
   ]
  },
  {
   "cell_type": "code",
   "execution_count": 119,
   "metadata": {},
   "outputs": [],
   "source": [
    "df.to_csv('~/analysis/ra-role/data/unanonymised-set.csv', index_label=False)\n",
    "df1.to_csv('~/analysis/ra-role/data/pseudoanonymised-set.csv', index_label=False)\n",
    "#df2.to_csv('~/analysis/ra-role/data/annonymised-set.csv', index_label=False)"
   ]
  },
  {
   "cell_type": "code",
   "execution_count": 120,
   "metadata": {},
   "outputs": [
    {
     "data": {
      "text/html": [
       "<div>\n",
       "<style scoped>\n",
       "    .dataframe tbody tr th:only-of-type {\n",
       "        vertical-align: middle;\n",
       "    }\n",
       "\n",
       "    .dataframe tbody tr th {\n",
       "        vertical-align: top;\n",
       "    }\n",
       "\n",
       "    .dataframe thead th {\n",
       "        text-align: right;\n",
       "    }\n",
       "</style>\n",
       "<table border=\"1\" class=\"dataframe\">\n",
       "  <thead>\n",
       "    <tr style=\"text-align: right;\">\n",
       "      <th></th>\n",
       "      <th>B1_ID</th>\n",
       "      <th>B1_CreatedAt</th>\n",
       "      <th>B1_Followers</th>\n",
       "      <th>B1_Friends</th>\n",
       "      <th>B1_Statuses</th>\n",
       "      <th>B1_Description</th>\n",
       "      <th>B1_Location</th>\n",
       "      <th>B1_Favourite</th>\n",
       "      <th>B1_Verification</th>\n",
       "      <th>B1_Tweet</th>\n",
       "      <th>...</th>\n",
       "      <th>B1_Friendship</th>\n",
       "      <th>B1_Followership</th>\n",
       "      <th>B1_Interestingness</th>\n",
       "      <th>B1_BidirFriendship</th>\n",
       "      <th>B1_BidirFollowership</th>\n",
       "      <th>B2_Friendship</th>\n",
       "      <th>B2_Followership</th>\n",
       "      <th>B2_Interestingness</th>\n",
       "      <th>B2_BidirFriendship</th>\n",
       "      <th>B2_BidirFollowership</th>\n",
       "    </tr>\n",
       "  </thead>\n",
       "  <tbody>\n",
       "    <tr>\n",
       "      <th>0</th>\n",
       "      <td>966710486</td>\n",
       "      <td>2012-11-23 19:38:18</td>\n",
       "      <td>4153</td>\n",
       "      <td>484</td>\n",
       "      <td>14942</td>\n",
       "      <td>No bio</td>\n",
       "      <td>The Netherlands/London</td>\n",
       "      <td>5338</td>\n",
       "      <td>False</td>\n",
       "      <td>Football is so unpredictable</td>\n",
       "      <td>...</td>\n",
       "      <td>0.116542</td>\n",
       "      <td>8.580579</td>\n",
       "      <td>0.357248</td>\n",
       "      <td>9.580579</td>\n",
       "      <td>1.116542</td>\n",
       "      <td>0.019807</td>\n",
       "      <td>50.487500</td>\n",
       "      <td>44.095890</td>\n",
       "      <td>51.487500</td>\n",
       "      <td>1.019807</td>\n",
       "    </tr>\n",
       "    <tr>\n",
       "      <th>0</th>\n",
       "      <td>514799426</td>\n",
       "      <td>2012-03-04 21:43:59</td>\n",
       "      <td>2126</td>\n",
       "      <td>421</td>\n",
       "      <td>920</td>\n",
       "      <td>pray the fakes get exposed</td>\n",
       "      <td>prizren/23</td>\n",
       "      <td>74340</td>\n",
       "      <td>False</td>\n",
       "      <td>@liba443 @userbewerten WIR HABEN EINE SNITCH I...</td>\n",
       "      <td>...</td>\n",
       "      <td>0.198024</td>\n",
       "      <td>5.049881</td>\n",
       "      <td>80.804348</td>\n",
       "      <td>6.049881</td>\n",
       "      <td>1.198024</td>\n",
       "      <td>2.642857</td>\n",
       "      <td>0.378378</td>\n",
       "      <td>83.894737</td>\n",
       "      <td>1.378378</td>\n",
       "      <td>3.642857</td>\n",
       "    </tr>\n",
       "  </tbody>\n",
       "</table>\n",
       "<p>2 rows × 34 columns</p>\n",
       "</div>"
      ],
      "text/plain": [
       "       B1_ID         B1_CreatedAt  B1_Followers  B1_Friends  B1_Statuses  \\\n",
       "0  966710486  2012-11-23 19:38:18          4153         484        14942   \n",
       "0  514799426  2012-03-04 21:43:59          2126         421          920   \n",
       "\n",
       "               B1_Description             B1_Location  B1_Favourite  \\\n",
       "0                      No bio  The Netherlands/London          5338   \n",
       "0  pray the fakes get exposed              prizren/23         74340   \n",
       "\n",
       "   B1_Verification                                           B1_Tweet  ...  \\\n",
       "0            False                       Football is so unpredictable  ...   \n",
       "0            False  @liba443 @userbewerten WIR HABEN EINE SNITCH I...  ...   \n",
       "\n",
       "  B1_Friendship  B1_Followership  B1_Interestingness B1_BidirFriendship  \\\n",
       "0      0.116542         8.580579            0.357248           9.580579   \n",
       "0      0.198024         5.049881           80.804348           6.049881   \n",
       "\n",
       "   B1_BidirFollowership  B2_Friendship  B2_Followership B2_Interestingness  \\\n",
       "0              1.116542       0.019807        50.487500          44.095890   \n",
       "0              1.198024       2.642857         0.378378          83.894737   \n",
       "\n",
       "  B2_BidirFriendship  B2_BidirFollowership  \n",
       "0          51.487500              1.019807  \n",
       "0           1.378378              3.642857  \n",
       "\n",
       "[2 rows x 34 columns]"
      ]
     },
     "execution_count": 120,
     "metadata": {},
     "output_type": "execute_result"
    }
   ],
   "source": [
    "df1.head(2)"
   ]
  },
  {
   "cell_type": "code",
   "execution_count": 121,
   "metadata": {},
   "outputs": [
    {
     "data": {
      "text/plain": [
       "1806"
      ]
     },
     "execution_count": 121,
     "metadata": {},
     "output_type": "execute_result"
    }
   ],
   "source": [
    "len(df1)"
   ]
  },
  {
   "cell_type": "code",
   "execution_count": 122,
   "metadata": {},
   "outputs": [
    {
     "data": {
      "text/plain": [
       "Index(['B1_ID', 'B1_CreatedAt', 'B1_Followers', 'B1_Friends', 'B1_Statuses',\n",
       "       'B1_Description', 'B1_Location', 'B1_Favourite', 'B1_Verification',\n",
       "       'B1_Tweet', 'B1_AccountCreated', 'B1_RTCount', 'B2_ID', 'B2_CreatedAt',\n",
       "       'B2_Followers', 'B2_Friends', 'B2_Statuses', 'B2_Description',\n",
       "       'B2_Location', 'B2_Favourite', 'B2_Verification', 'B2_Tweet',\n",
       "       'B2_AccountCreated', 'B2_RTCount', 'B1_Friendship', 'B1_Followership',\n",
       "       'B1_Interestingness', 'B1_BidirFriendship', 'B1_BidirFollowership',\n",
       "       'B2_Friendship', 'B2_Followership', 'B2_Interestingness',\n",
       "       'B2_BidirFriendship', 'B2_BidirFollowership'],\n",
       "      dtype='object')"
      ]
     },
     "execution_count": 122,
     "metadata": {},
     "output_type": "execute_result"
    }
   ],
   "source": [
    "df1.columns"
   ]
  },
  {
   "cell_type": "code",
   "execution_count": null,
   "metadata": {},
   "outputs": [],
   "source": []
  },
  {
   "cell_type": "code",
   "execution_count": null,
   "metadata": {},
   "outputs": [],
   "source": []
  }
 ],
 "metadata": {
  "kernelspec": {
   "display_name": "TensorFlow-GPU",
   "language": "python",
   "name": "tf-gpu"
  },
  "language_info": {
   "codemirror_mode": {
    "name": "ipython",
    "version": 3
   },
   "file_extension": ".py",
   "mimetype": "text/x-python",
   "name": "python",
   "nbconvert_exporter": "python",
   "pygments_lexer": "ipython3",
   "version": "3.7.7"
  }
 },
 "nbformat": 4,
 "nbformat_minor": 4
}
