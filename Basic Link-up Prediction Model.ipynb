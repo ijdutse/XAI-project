{
 "cells": [
  {
   "cell_type": "markdown",
   "metadata": {},
   "source": [
    "**PREDICTION MODEL**"
   ]
  },
  {
   "cell_type": "code",
   "execution_count": 3,
   "metadata": {},
   "outputs": [],
   "source": [
    "%matplotlib inline\n",
    "import numpy as np\n",
    "import pandas as pd\n",
    "from collections import Counter\n",
    "import json\n",
    "import string\n",
    "import codecs\n",
    "import matplotlib.pyplot as plt\n",
    "#LARGE_FIGSIZE = (16,11)\n",
    "import re\n",
    "from sklearn.preprocessing import StandardScaler\n",
    "from sklearn.model_selection import train_test_split"
   ]
  },
  {
   "cell_type": "code",
   "execution_count": 4,
   "metadata": {},
   "outputs": [
    {
     "name": "stdout",
     "output_type": "stream",
     "text": [
      "fullset-of-reciprocated-data-class10.csv  pseudoanonymised-set.csv\r\n",
      "ml-training-dataset.csv                   random_one_edges.csv\r\n",
      "pairwise-prediction-data1.csv             unanonymised-set.csv\r\n"
     ]
    }
   ],
   "source": [
    "ls data/"
   ]
  },
  {
   "cell_type": "code",
   "execution_count": 5,
   "metadata": {},
   "outputs": [
    {
     "data": {
      "text/html": [
       "<div>\n",
       "<style scoped>\n",
       "    .dataframe tbody tr th:only-of-type {\n",
       "        vertical-align: middle;\n",
       "    }\n",
       "\n",
       "    .dataframe tbody tr th {\n",
       "        vertical-align: top;\n",
       "    }\n",
       "\n",
       "    .dataframe thead th {\n",
       "        text-align: right;\n",
       "    }\n",
       "</style>\n",
       "<table border=\"1\" class=\"dataframe\">\n",
       "  <thead>\n",
       "    <tr style=\"text-align: right;\">\n",
       "      <th></th>\n",
       "      <th>Pairs</th>\n",
       "      <th>Reciprocity_A</th>\n",
       "      <th>Reciprocity_B</th>\n",
       "      <th>Reciprocity_AB</th>\n",
       "      <th>PMentioning_AB</th>\n",
       "      <th>PRetweet_AB</th>\n",
       "      <th>TextSentiment_A</th>\n",
       "      <th>TextSentiment_B</th>\n",
       "      <th>TextSimilarity_AB</th>\n",
       "      <th>Interestingness_AB</th>\n",
       "      <th>Class</th>\n",
       "    </tr>\n",
       "  </thead>\n",
       "  <tbody>\n",
       "    <tr>\n",
       "      <th>1</th>\n",
       "      <td>('whi14', 'FCE11')</td>\n",
       "      <td>0.247685</td>\n",
       "      <td>0.716981</td>\n",
       "      <td>0.336477</td>\n",
       "      <td>0</td>\n",
       "      <td>0.0</td>\n",
       "      <td>0.7906</td>\n",
       "      <td>0.2960</td>\n",
       "      <td>0.61</td>\n",
       "      <td>0.0</td>\n",
       "      <td>1</td>\n",
       "    </tr>\n",
       "    <tr>\n",
       "      <th>2</th>\n",
       "      <td>('whi14', 'Rim13')</td>\n",
       "      <td>0.247685</td>\n",
       "      <td>0.571429</td>\n",
       "      <td>0.318452</td>\n",
       "      <td>0</td>\n",
       "      <td>0.0</td>\n",
       "      <td>0.7906</td>\n",
       "      <td>0.0000</td>\n",
       "      <td>0.63</td>\n",
       "      <td>0.0</td>\n",
       "      <td>1</td>\n",
       "    </tr>\n",
       "    <tr>\n",
       "      <th>3</th>\n",
       "      <td>('whi14', 'Avr13')</td>\n",
       "      <td>0.247685</td>\n",
       "      <td>0.619802</td>\n",
       "      <td>0.324443</td>\n",
       "      <td>0</td>\n",
       "      <td>0.0</td>\n",
       "      <td>0.7906</td>\n",
       "      <td>0.7096</td>\n",
       "      <td>0.62</td>\n",
       "      <td>0.0</td>\n",
       "      <td>1</td>\n",
       "    </tr>\n",
       "  </tbody>\n",
       "</table>\n",
       "</div>"
      ],
      "text/plain": [
       "                Pairs  Reciprocity_A  Reciprocity_B  Reciprocity_AB  \\\n",
       "1  ('whi14', 'FCE11')       0.247685       0.716981        0.336477   \n",
       "2  ('whi14', 'Rim13')       0.247685       0.571429        0.318452   \n",
       "3  ('whi14', 'Avr13')       0.247685       0.619802        0.324443   \n",
       "\n",
       "   PMentioning_AB  PRetweet_AB  TextSentiment_A  TextSentiment_B  \\\n",
       "1               0          0.0           0.7906           0.2960   \n",
       "2               0          0.0           0.7906           0.0000   \n",
       "3               0          0.0           0.7906           0.7096   \n",
       "\n",
       "   TextSimilarity_AB  Interestingness_AB  Class  \n",
       "1               0.61                 0.0      1  \n",
       "2               0.63                 0.0      1  \n",
       "3               0.62                 0.0      1  "
      ]
     },
     "execution_count": 5,
     "metadata": {},
     "output_type": "execute_result"
    }
   ],
   "source": [
    "df = pd.read_csv('data/ml-training-dataset.csv')\n",
    "df.head(3)"
   ]
  },
  {
   "cell_type": "code",
   "execution_count": 6,
   "metadata": {},
   "outputs": [
    {
     "data": {
      "text/plain": [
       "1507"
      ]
     },
     "execution_count": 6,
     "metadata": {},
     "output_type": "execute_result"
    }
   ],
   "source": [
    "len(df)"
   ]
  },
  {
   "cell_type": "markdown",
   "metadata": {},
   "source": [
    "    #FEATURES AND LABELS ... "
   ]
  },
  {
   "cell_type": "code",
   "execution_count": 7,
   "metadata": {},
   "outputs": [
    {
     "data": {
      "text/html": [
       "<div>\n",
       "<style scoped>\n",
       "    .dataframe tbody tr th:only-of-type {\n",
       "        vertical-align: middle;\n",
       "    }\n",
       "\n",
       "    .dataframe tbody tr th {\n",
       "        vertical-align: top;\n",
       "    }\n",
       "\n",
       "    .dataframe thead th {\n",
       "        text-align: right;\n",
       "    }\n",
       "</style>\n",
       "<table border=\"1\" class=\"dataframe\">\n",
       "  <thead>\n",
       "    <tr style=\"text-align: right;\">\n",
       "      <th></th>\n",
       "      <th>Reciprocity_A</th>\n",
       "      <th>Reciprocity_B</th>\n",
       "      <th>Reciprocity_AB</th>\n",
       "      <th>PMentioning_AB</th>\n",
       "      <th>PRetweet_AB</th>\n",
       "      <th>TextSentiment_A</th>\n",
       "      <th>TextSentiment_B</th>\n",
       "      <th>TextSimilarity_AB</th>\n",
       "      <th>Interestingness_AB</th>\n",
       "      <th>Class</th>\n",
       "    </tr>\n",
       "  </thead>\n",
       "  <tbody>\n",
       "    <tr>\n",
       "      <th>1</th>\n",
       "      <td>0.247685</td>\n",
       "      <td>0.716981</td>\n",
       "      <td>0.336477</td>\n",
       "      <td>0</td>\n",
       "      <td>0.0</td>\n",
       "      <td>0.7906</td>\n",
       "      <td>0.2960</td>\n",
       "      <td>0.61</td>\n",
       "      <td>0.0</td>\n",
       "      <td>1</td>\n",
       "    </tr>\n",
       "    <tr>\n",
       "      <th>2</th>\n",
       "      <td>0.247685</td>\n",
       "      <td>0.571429</td>\n",
       "      <td>0.318452</td>\n",
       "      <td>0</td>\n",
       "      <td>0.0</td>\n",
       "      <td>0.7906</td>\n",
       "      <td>0.0000</td>\n",
       "      <td>0.63</td>\n",
       "      <td>0.0</td>\n",
       "      <td>1</td>\n",
       "    </tr>\n",
       "    <tr>\n",
       "      <th>3</th>\n",
       "      <td>0.247685</td>\n",
       "      <td>0.619802</td>\n",
       "      <td>0.324443</td>\n",
       "      <td>0</td>\n",
       "      <td>0.0</td>\n",
       "      <td>0.7906</td>\n",
       "      <td>0.7096</td>\n",
       "      <td>0.62</td>\n",
       "      <td>0.0</td>\n",
       "      <td>1</td>\n",
       "    </tr>\n",
       "    <tr>\n",
       "      <th>4</th>\n",
       "      <td>0.247685</td>\n",
       "      <td>0.531941</td>\n",
       "      <td>0.313562</td>\n",
       "      <td>0</td>\n",
       "      <td>0.0</td>\n",
       "      <td>0.7906</td>\n",
       "      <td>0.0000</td>\n",
       "      <td>0.60</td>\n",
       "      <td>0.0</td>\n",
       "      <td>1</td>\n",
       "    </tr>\n",
       "    <tr>\n",
       "      <th>0</th>\n",
       "      <td>0.819761</td>\n",
       "      <td>0.784127</td>\n",
       "      <td>1.141160</td>\n",
       "      <td>0</td>\n",
       "      <td>0.0</td>\n",
       "      <td>-0.5994</td>\n",
       "      <td>-0.8225</td>\n",
       "      <td>0.58</td>\n",
       "      <td>0.0</td>\n",
       "      <td>1</td>\n",
       "    </tr>\n",
       "  </tbody>\n",
       "</table>\n",
       "</div>"
      ],
      "text/plain": [
       "   Reciprocity_A  Reciprocity_B  Reciprocity_AB  PMentioning_AB  PRetweet_AB  \\\n",
       "1       0.247685       0.716981        0.336477               0          0.0   \n",
       "2       0.247685       0.571429        0.318452               0          0.0   \n",
       "3       0.247685       0.619802        0.324443               0          0.0   \n",
       "4       0.247685       0.531941        0.313562               0          0.0   \n",
       "0       0.819761       0.784127        1.141160               0          0.0   \n",
       "\n",
       "   TextSentiment_A  TextSentiment_B  TextSimilarity_AB  Interestingness_AB  \\\n",
       "1           0.7906           0.2960               0.61                 0.0   \n",
       "2           0.7906           0.0000               0.63                 0.0   \n",
       "3           0.7906           0.7096               0.62                 0.0   \n",
       "4           0.7906           0.0000               0.60                 0.0   \n",
       "0          -0.5994          -0.8225               0.58                 0.0   \n",
       "\n",
       "   Class  \n",
       "1      1  \n",
       "2      1  \n",
       "3      1  \n",
       "4      1  \n",
       "0      1  "
      ]
     },
     "execution_count": 7,
     "metadata": {},
     "output_type": "execute_result"
    }
   ],
   "source": [
    "X = df.drop('Pairs', axis=1)\n",
    "X.head()"
   ]
  },
  {
   "cell_type": "code",
   "execution_count": 8,
   "metadata": {},
   "outputs": [
    {
     "data": {
      "text/plain": [
       "(1507, 1507)"
      ]
     },
     "execution_count": 8,
     "metadata": {},
     "output_type": "execute_result"
    }
   ],
   "source": [
    "y = X.pop('Class')\n",
    "y = y.astype(np.int32)\n",
    "len(X), len(y)"
   ]
  },
  {
   "cell_type": "code",
   "execution_count": 9,
   "metadata": {},
   "outputs": [],
   "source": [
    "#DATA SPLIT: \n",
    "#RANDOM FOREST .. \n",
    "#rf_clf = RandomForestClassifier(n_estimators=1000, criterion='entropy',oob_score=True, n_jobs=-1)\n",
    "X_train1, X_test1, y_train1, y_test1 = train_test_split(X,y, test_size=0.3)"
   ]
  },
  {
   "cell_type": "markdown",
   "metadata": {},
   "source": [
    "**MODELS**"
   ]
  },
  {
   "cell_type": "code",
   "execution_count": 10,
   "metadata": {},
   "outputs": [],
   "source": [
    "from sklearn.model_selection import StratifiedKFold, GridSearchCV, cross_val_score\n",
    "from sklearn.ensemble import RandomForestClassifier, RandomForestRegressor, ExtraTreesRegressor, ExtraTreesClassifier\n",
    "from sklearn.metrics import roc_auc_score, roc_curve\n",
    "from sklearn.ensemble import GradientBoostingClassifier\n",
    "from sklearn.preprocessing import RobustScaler"
   ]
  },
  {
   "cell_type": "markdown",
   "metadata": {},
   "source": [
    "    #1: Gradient Boosting:"
   ]
  },
  {
   "cell_type": "code",
   "execution_count": 11,
   "metadata": {},
   "outputs": [],
   "source": [
    "#DATA SCALING: \n",
    "scaler = RobustScaler()\n",
    "X = scaler.fit_transform(X)"
   ]
  },
  {
   "cell_type": "code",
   "execution_count": 12,
   "metadata": {},
   "outputs": [],
   "source": [
    "X_train2, X_test2, y_train2, y_test2 = train_test_split(X,y, test_size=0.3)\n",
    "gtb_clf = GradientBoostingClassifier(n_estimators=1000, loss = 'exponential',\\\n",
    "                                     max_depth=2, learning_rate=0.1)"
   ]
  },
  {
   "cell_type": "code",
   "execution_count": 13,
   "metadata": {},
   "outputs": [
    {
     "name": "stdout",
     "output_type": "stream",
     "text": [
      "CPU times: user 1.33 s, sys: 7.97 ms, total: 1.34 s\n",
      "Wall time: 1.37 s\n"
     ]
    },
    {
     "data": {
      "text/plain": [
       "GradientBoostingClassifier(loss='exponential', max_depth=2, n_estimators=1000)"
      ]
     },
     "execution_count": 13,
     "metadata": {},
     "output_type": "execute_result"
    }
   ],
   "source": [
    "%time gtb_clf.fit(X_train2, y_train2)"
   ]
  },
  {
   "cell_type": "code",
   "execution_count": 14,
   "metadata": {},
   "outputs": [],
   "source": [
    "y_pred2 = gtb_clf.predict(X_test2)"
   ]
  },
  {
   "cell_type": "code",
   "execution_count": 15,
   "metadata": {},
   "outputs": [
    {
     "name": "stdout",
     "output_type": "stream",
     "text": [
      "0.847682119205298\n"
     ]
    }
   ],
   "source": [
    "from sklearn.metrics import accuracy_score\n",
    "gtb_accuracy = accuracy_score (y_test2, y_pred2)\n",
    "print (gtb_accuracy)"
   ]
  },
  {
   "cell_type": "code",
   "execution_count": 17,
   "metadata": {},
   "outputs": [
    {
     "name": "stdout",
     "output_type": "stream",
     "text": [
      "0.8468501935635241\n"
     ]
    }
   ],
   "source": [
    "gtb_roc_score = roc_auc_score(y_test2, y_pred2)\n",
    "print (gtb_roc_score)"
   ]
  },
  {
   "cell_type": "code",
   "execution_count": 18,
   "metadata": {},
   "outputs": [
    {
     "data": {
      "text/plain": [
       "(453,)"
      ]
     },
     "execution_count": 18,
     "metadata": {},
     "output_type": "execute_result"
    }
   ],
   "source": [
    "gtb_proba = gtb_clf.predict_proba(X_test2)[:,1]\n",
    "gtb_proba.shape"
   ]
  },
  {
   "cell_type": "code",
   "execution_count": 19,
   "metadata": {},
   "outputs": [
    {
     "name": "stdout",
     "output_type": "stream",
     "text": [
      "Model AUC: 0.8469 \n",
      "Model accuracy: 0.8477 \n",
      "Gradient Tree Boosting Classification Report:\n",
      "              precision    recall  f1-score   support\n",
      "\n",
      "           0       0.84      0.83      0.84       214\n",
      "           1       0.85      0.86      0.86       239\n",
      "\n",
      "    accuracy                           0.85       453\n",
      "   macro avg       0.85      0.85      0.85       453\n",
      "weighted avg       0.85      0.85      0.85       453\n",
      "\n"
     ]
    }
   ],
   "source": [
    "# auc, accuracy and classification report :\n",
    "from sklearn.metrics import accuracy_score, classification_report\n",
    "print ('Model AUC: %2.4f '% roc_auc_score(y_test2,y_pred2))\n",
    "print ('Model accuracy: %2.4f '% accuracy_score(y_test2, y_pred2))\n",
    "print ('Gradient Tree Boosting Classification Report:')\n",
    "print(classification_report(y_test2, y_pred2))"
   ]
  },
  {
   "cell_type": "code",
   "execution_count": 20,
   "metadata": {},
   "outputs": [
    {
     "name": "stdout",
     "output_type": "stream",
     "text": [
      "[[178  36]\n",
      " [ 33 206]]\n"
     ]
    }
   ],
   "source": [
    "#from sklearn.metrics import confusion_matrix\n",
    "#conf_mat2 = confusion_matrix(y_test2,y_pred2)\n",
    "#print(conf_mat2)"
   ]
  },
  {
   "cell_type": "code",
   "execution_count": 21,
   "metadata": {},
   "outputs": [
    {
     "data": {
      "image/png": "[encoded data removed]",
      "text/plain": [
       "<Figure size 432x288 with 1 Axes>"
      ]
     },
     "metadata": {
      "needs_background": "light"
     },
     "output_type": "display_data"
    }
   ],
   "source": [
    "from sklearn.metrics import roc_curve, roc_auc_score\n",
    "#rf_roc_score = roc_auc_score(y_test1,y_pred1)\n",
    "fpr,tpr,thresholds=roc_curve(y_test2, gtb_proba)\n",
    "plt.figure()\n",
    "plt.plot(fpr,tpr,label='Gradient Tree Boosting (area = %0.3f)' % gtb_roc_score)\n",
    "plt.plot([0,1],[0,1], 'k--')\n",
    "plt.xlim([0.0,1.0])\n",
    "plt.ylim([0.0,1.05])\n",
    "plt.xlabel('False Positive Rate')\n",
    "plt.ylabel('True Positive Rate')\n",
    "plt.title('Gradient Tree Boosting ROC curve')\n",
    "plt.legend(loc='lower right')\n",
    "plt.show()"
   ]
  },
  {
   "cell_type": "code",
   "execution_count": 24,
   "metadata": {},
   "outputs": [
    {
     "name": "stdout",
     "output_type": "stream",
     "text": [
      "CPU times: user 1min 4s, sys: 19.6 ms, total: 1min 4s\n",
      "Wall time: 1min 4s\n"
     ]
    },
    {
     "data": {
      "text/plain": [
       "<module 'matplotlib.pyplot' from '/home/ijdutse/anaconda3/envs/tf-gpu/lib/python3.7/site-packages/matplotlib/pyplot.py'>"
      ]
     },
     "execution_count": 24,
     "metadata": {},
     "output_type": "execute_result"
    },
    {
     "data": {
      "image/png": "[encoded data removed]",
      "text/plain": [
       "<Figure size 432x288 with 1 Axes>"
      ]
     },
     "metadata": {
      "needs_background": "light"
     },
     "output_type": "display_data"
    }
   ],
   "source": [
    "%matplotlib inline\n",
    "import matplotlib.pyplot as plt\n",
    "from sklearn.model_selection import learning_curve\n",
    "title = 'Gradient Tree Boosting Classifier Learning Curve'\n",
    "%time plot_learning_curve(gtb_clf,title,X_train2,y_train2)"
   ]
  },
  {
   "cell_type": "code",
   "execution_count": 23,
   "metadata": {},
   "outputs": [
    {
     "name": "stdout",
     "output_type": "stream",
     "text": [
      "0.9886148007590133\n",
      "0.847682119205298\n",
      "Train Score: \n",
      "Test Score: \n"
     ]
    }
   ],
   "source": [
    "print(gtb_clf.score(X_train2,y_train2))\n",
    "print(gtb_clf.score(X_test2,y_test2))\n",
    "\n",
    "print('Train Score: ' %gtb_clf.score(X_train2,y_train2))\n",
    "print('Test Score: ' %gtb_clf.score(X_test2,y_test2))\n"
   ]
  },
  {
   "cell_type": "markdown",
   "metadata": {},
   "source": [
    "    #OTHERS .... "
   ]
  },
  {
   "cell_type": "code",
   "execution_count": null,
   "metadata": {},
   "outputs": [],
   "source": []
  },
  {
   "cell_type": "code",
   "execution_count": 22,
   "metadata": {},
   "outputs": [],
   "source": [
    "def plot_learning_curve(estimator, title, X, y, ylim=None, cv=None,\n",
    "                        n_jobs=1, train_sizes=np.linspace(.1, 1.0, 15)):\n",
    "    plt.figure()\n",
    "    plt.title(title)\n",
    "    if ylim is not None:\n",
    "        plt.ylim(*ylim)\n",
    "    plt.xlabel(\"Training Datasets\")\n",
    "    plt.ylabel(\"Score\")\n",
    "    train_sizes, train_scores, test_scores = learning_curve(\n",
    "        estimator, X, y, cv=cv, n_jobs=n_jobs, train_sizes=train_sizes)\n",
    "    train_scores_mean = np.mean(train_scores, axis=1)\n",
    "    train_scores_std = np.std(train_scores, axis=1)\n",
    "    test_scores_mean = np.mean(test_scores, axis=1)\n",
    "    test_scores_std = np.std(test_scores, axis=1)\n",
    "    plt.grid()\n",
    "\n",
    "    plt.fill_between(train_sizes, train_scores_mean - train_scores_std,\n",
    "                     train_scores_mean + train_scores_std, alpha=0.1,\n",
    "                     color=\"r\")\n",
    "    plt.fill_between(train_sizes, test_scores_mean - test_scores_std,\n",
    "                     test_scores_mean + test_scores_std, alpha=0.1, color=\"g\")\n",
    "    plt.plot(train_sizes, train_scores_mean, 'o-', color=\"r\",\n",
    "             label=\"Training score\")\n",
    "    plt.plot(train_sizes, test_scores_mean, 'o-', color=\"g\",\n",
    "             label=\"Cross-validation score\")\n",
    "\n",
    "    plt.legend(loc=\"best\")\n",
    "    return plt"
   ]
  },
  {
   "cell_type": "code",
   "execution_count": 70,
   "metadata": {},
   "outputs": [],
   "source": [
    "##########################################################################################"
   ]
  }
 ],
 "metadata": {
  "kernelspec": {
   "display_name": "TensorFlow-GPU",
   "language": "python",
   "name": "tf-gpu"
  },
  "language_info": {
   "codemirror_mode": {
    "name": "ipython",
    "version": 3
   },
   "file_extension": ".py",
   "mimetype": "text/x-python",
   "name": "python",
   "nbconvert_exporter": "python",
   "pygments_lexer": "ipython3",
   "version": "3.7.7"
  }
 },
 "nbformat": 4,
 "nbformat_minor": 2
}
